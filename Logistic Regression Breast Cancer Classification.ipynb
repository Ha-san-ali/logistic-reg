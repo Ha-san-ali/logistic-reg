{
 "cells": [
  {
   "cell_type": "markdown",
   "metadata": {},
   "source": [
    "# Logistic Regression From Scratch\n",
    "## Malignancy of Breast Cancer Classification\n",
    "Based off of logistic regression model created by Martín Pellarolo @martinpella"
   ]
  },
  {
   "cell_type": "code",
   "execution_count": 1,
   "metadata": {
    "collapsed": true
   },
   "outputs": [],
   "source": [
    "# Import Libraries\n",
    "%matplotlib inline\n",
    "import numpy as np\n",
    "import seaborn as sns\n",
    "from sklearn import datasets\n",
    "import warnings\n",
    "warnings.filterwarnings(\"ignore\")"
   ]
  },
  {
   "cell_type": "code",
   "execution_count": 2,
   "metadata": {
    "collapsed": true
   },
   "outputs": [],
   "source": [
    "# Load Data\n",
    "breast_cancer = datasets.load_breast_cancer()"
   ]
  },
  {
   "cell_type": "code",
   "execution_count": 3,
   "metadata": {
    "collapsed": true
   },
   "outputs": [],
   "source": [
    "# User Mean Smoothness and Mean Compactness of breast tissue as features\n",
    "X = breast_cancer.data[:, 5:7]\n",
    "\n",
    "# Target is either 1 or 0, Malignant or Benign respectively.\n",
    "y = breast_cancer.target"
   ]
  },
  {
   "cell_type": "code",
   "execution_count": 4,
   "metadata": {
    "scrolled": true
   },
   "outputs": [
    {
     "data": {
      "text/plain": [
       "<matplotlib.legend.Legend at 0x1a0fd1b6a0>"
      ]
     },
     "execution_count": 4,
     "metadata": {},
     "output_type": "execute_result"
    },
    {
     "data": {
      "image/png": "[encoded data removed]",
      "text/plain": [
       "<matplotlib.figure.Figure at 0x1a0ace6da0>"
      ]
     },
     "metadata": {},
     "output_type": "display_data"
    }
   ],
   "source": [
    "# Plot distribution of malignancy compared to features\n",
    "ax = sns.regplot(x=X[y == 0][:, 0], y=X[y == 0][:, 1], fit_reg=False, scatter=True, label=\"0 Malignant\")\n",
    "sns.regplot(x=X[y == 1][:, 0], y=X[y == 1][:, 1], fit_reg=False, scatter=True, label=\"1 Benign\")\n",
    "ax.legend(loc=\"best\")"
   ]
  },
  {
   "cell_type": "code",
   "execution_count": 5,
   "metadata": {
    "collapsed": true
   },
   "outputs": [],
   "source": [
    "# Logistic regression models the probability that each input is part of a particular category\n",
    "class LogisticRegression:\n",
    "    def __init__(self, lr=0.01, num_iter=100000, fit_intercept=True, verbose=True):\n",
    "        # Define learning rage\n",
    "        self.lr = lr\n",
    "        # Define number of iterations\n",
    "        self.num_iter = num_iter\n",
    "        # Initialize fit of intercept\n",
    "        self.fit_intercept = fit_intercept\n",
    "        # Initialize verbose logs\n",
    "        self.verbose = verbose\n",
    "    \n",
    "    # Adds intercept\n",
    "    def __add_intercept(self, X):\n",
    "        intercept = np.ones((X.shape[0], 1))\n",
    "        return np.concatenate((intercept, X), axis=1)\n",
    "    \n",
    "    # Sigmoid function\n",
    "    def __sigmoid(self, z):\n",
    "        return 1 / (1 + np.exp(-z))\n",
    "    \n",
    "    # Cross Entropy loss function\n",
    "    # Measures the performance of a classification model\n",
    "    # h = predicted probability of observation\n",
    "    # y = binary indicator (0 or 1), 1 if label is correct\n",
    "    def __loss(self, h, y):\n",
    "        return (-y * np.log(h) - (1 - y) * np.log(1 - h)).mean()\n",
    "    \n",
    "    # Train the Model\n",
    "    def fit(self, X, y):\n",
    "        # Add intercept if enabled\n",
    "        if self.fit_intercept:\n",
    "            X = self.__add_intercept(X)\n",
    "        \n",
    "        # Initialize weights\n",
    "        self.theta = np.zeros(X.shape[1])\n",
    "        \n",
    "        # Update weights through iterations \n",
    "        for i in range(self.num_iter):\n",
    "            # Apply weights to data\n",
    "            z = np.dot(X, self.theta)\n",
    "            # Fit to sigmoid curve\n",
    "            h = self.__sigmoid(z)\n",
    "            \n",
    "            # Define gradient descent calculation\n",
    "            # Derivative of the loss function with respect to each weight\n",
    "            gradient = np.dot(X.T, (h - y)) / y.size\n",
    "            \n",
    "            # Manipulate weights with gradient descent\n",
    "            self.theta -= self.lr * gradient\n",
    "            \n",
    "            # Apply weights to data\n",
    "            z = np.dot(X, self.theta)\n",
    "             # Fit to sigmoid curve\n",
    "            h = self.__sigmoid(z)\n",
    "            \n",
    "            # Compute the loss \n",
    "            loss = self.__loss(h, y)\n",
    "            \n",
    "            # Add loss log\n",
    "            if(self.verbose ==True and i % 10000 == 0):\n",
    "                print(f'loss: {loss} \\t')\n",
    "    \n",
    "    # Calculate probability of predictions\n",
    "    def predict_prob(self, X):\n",
    "        if self.fit_intercept:\n",
    "            X = self.__add_intercept(X)\n",
    "        \n",
    "        # Use sigmoid function to get probability that some input x belongs to class 1\n",
    "        return self.__sigmoid(np.dot(X, self.theta))\n",
    "    \n",
    "    # Round prediction to 0 or 1\n",
    "    def predict(self, X):\n",
    "        return self.predict_prob(X).round()"
   ]
  },
  {
   "cell_type": "code",
   "execution_count": 6,
   "metadata": {},
   "outputs": [],
   "source": [
    "# set model to use LogisticRegression Class\n",
    "model = LogisticRegression(lr=0.1, num_iter=300000)"
   ]
  },
  {
   "cell_type": "code",
   "execution_count": 7,
   "metadata": {},
   "outputs": [
    {
     "name": "stdout",
     "output_type": "stream",
     "text": [
      "loss: 0.6915190775516354 \t\n",
      "loss: 0.4004495005670822 \t\n",
      "loss: 0.3686308625578685 \t\n",
      "loss: 0.35803740751562857 \t\n",
      "loss: 0.3530124621972684 \t\n",
      "loss: 0.3500375845638649 \t\n",
      "loss: 0.3479739443585999 \t\n",
      "loss: 0.3463760484926458 \t\n",
      "loss: 0.3450475495507207 \t\n",
      "loss: 0.3438939781775529 \t\n",
      "loss: 0.34286629119124207 \t\n",
      "loss: 0.3419370025637665 \t\n",
      "loss: 0.3410893727396773 \t\n",
      "loss: 0.3403122637344841 \t\n",
      "loss: 0.33959759864883765 \t\n",
      "loss: 0.3389390699331929 \t\n",
      "loss: 0.33833146513248846 \t\n",
      "loss: 0.33777030496658184 \t\n",
      "loss: 0.3372516421544525 \t\n",
      "loss: 0.3367719441810414 \t\n",
      "loss: 0.336328020558568 \t\n",
      "loss: 0.3359169741271334 \t\n",
      "loss: 0.33553616571563816 \t\n",
      "loss: 0.33518318655497903 \t\n",
      "loss: 0.33485583547654335 \t\n",
      "loss: 0.33455209930639357 \t\n",
      "loss: 0.33427013558345986 \t\n",
      "loss: 0.3340082571037951 \t\n",
      "loss: 0.33376491798749824 \t\n",
      "loss: 0.3335387010666855 \t\n",
      "CPU times: user 37.7 s, sys: 532 ms, total: 38.2 s\n",
      "Wall time: 40.2 s\n"
     ]
    }
   ],
   "source": [
    "# Run and time model\n",
    "%time model.fit(X, y)"
   ]
  },
  {
   "cell_type": "code",
   "execution_count": 8,
   "metadata": {},
   "outputs": [
    {
     "data": {
      "text/plain": [
       "0.875219683655536"
      ]
     },
     "execution_count": 8,
     "metadata": {},
     "output_type": "execute_result"
    }
   ],
   "source": [
    "# Predict y based off of updated X using weights\n",
    "preds = model.predict(X)\n",
    "# Average the predictions that were correct\n",
    "(preds == y).mean()"
   ]
  },
  {
   "cell_type": "code",
   "execution_count": 9,
   "metadata": {},
   "outputs": [
    {
     "data": {
      "text/plain": [
       "array([  3.39226054,   5.34911351, -38.81129192])"
      ]
     },
     "execution_count": 9,
     "metadata": {},
     "output_type": "execute_result"
    }
   ],
   "source": [
    "# Display weights (Intercept, Smoothness, Compactness) \n",
    "model.theta"
   ]
  },
  {
   "cell_type": "code",
   "execution_count": 10,
   "metadata": {},
   "outputs": [
    {
     "ename": "NameError",
     "evalue": "name 'plt' is not defined",
     "output_type": "error",
     "traceback": [
      "\u001b[0;31m---------------------------------------------------------------------------\u001b[0m",
      "\u001b[0;31mNameError\u001b[0m                                 Traceback (most recent call last)",
      "\u001b[0;32m<ipython-input-10-9c6a0a831015>\u001b[0m in \u001b[0;36m<module>\u001b[0;34m()\u001b[0m\n\u001b[1;32m      8\u001b[0m \u001b[0mgrid\u001b[0m \u001b[0;34m=\u001b[0m \u001b[0mnp\u001b[0m\u001b[0;34m.\u001b[0m\u001b[0mc_\u001b[0m\u001b[0;34m[\u001b[0m\u001b[0mxx1\u001b[0m\u001b[0;34m.\u001b[0m\u001b[0mravel\u001b[0m\u001b[0;34m(\u001b[0m\u001b[0;34m)\u001b[0m\u001b[0;34m,\u001b[0m \u001b[0mxx2\u001b[0m\u001b[0;34m.\u001b[0m\u001b[0mravel\u001b[0m\u001b[0;34m(\u001b[0m\u001b[0;34m)\u001b[0m\u001b[0;34m]\u001b[0m\u001b[0;34m\u001b[0m\u001b[0m\n\u001b[1;32m      9\u001b[0m \u001b[0mprobs\u001b[0m \u001b[0;34m=\u001b[0m \u001b[0mmodel\u001b[0m\u001b[0;34m.\u001b[0m\u001b[0mpredict_prob\u001b[0m\u001b[0;34m(\u001b[0m\u001b[0mgrid\u001b[0m\u001b[0;34m)\u001b[0m\u001b[0;34m.\u001b[0m\u001b[0mreshape\u001b[0m\u001b[0;34m(\u001b[0m\u001b[0mxx1\u001b[0m\u001b[0;34m.\u001b[0m\u001b[0mshape\u001b[0m\u001b[0;34m)\u001b[0m\u001b[0;34m\u001b[0m\u001b[0m\n\u001b[0;32m---> 10\u001b[0;31m \u001b[0mplt\u001b[0m\u001b[0;34m.\u001b[0m\u001b[0mcontour\u001b[0m\u001b[0;34m(\u001b[0m\u001b[0mxx1\u001b[0m\u001b[0;34m,\u001b[0m \u001b[0mxx2\u001b[0m\u001b[0;34m,\u001b[0m \u001b[0mprobs\u001b[0m\u001b[0;34m,\u001b[0m \u001b[0;34m[\u001b[0m\u001b[0;36m0.5\u001b[0m\u001b[0;34m]\u001b[0m\u001b[0;34m,\u001b[0m \u001b[0mlinewidths\u001b[0m\u001b[0;34m=\u001b[0m\u001b[0;36m2\u001b[0m\u001b[0;34m,\u001b[0m \u001b[0mcolors\u001b[0m\u001b[0;34m=\u001b[0m\u001b[0;34m'black'\u001b[0m\u001b[0;34m)\u001b[0m\u001b[0;34m;\u001b[0m\u001b[0;34m\u001b[0m\u001b[0m\n\u001b[0m",
      "\u001b[0;31mNameError\u001b[0m: name 'plt' is not defined"
     ]
    },
    {
     "data": {
      "image/png": "[encoded data removed]",
      "text/plain": [
       "<matplotlib.figure.Figure at 0x1a126100b8>"
      ]
     },
     "metadata": {},
     "output_type": "display_data"
    }
   ],
   "source": [
    "# Plot logistic regression\n",
    "ax = sns.regplot(x=X[y == 0][:, 0], y=X[y == 0][:, 1], fit_reg=False, scatter=True, label=\"0 Malignant\")\n",
    "sns.regplot(x=X[y == 1][:, 0], y=X[y == 1][:, 1], fit_reg=False, scatter=True, label=\"1 Benign\")\n",
    "ax.legend(loc=\"best\")\n",
    "x1_min, x1_max = X[:,0].min(), X[:,0].max(),\n",
    "x2_min, x2_max = X[:,1].min(), X[:,1].max(),\n",
    "xx1, xx2 = np.meshgrid(np.linspace(x1_min, x1_max), np.linspace(x2_min, x2_max))\n",
    "grid = np.c_[xx1.ravel(), xx2.ravel()]\n",
    "probs = model.predict_prob(grid).reshape(xx1.shape)\n",
    "plt.contour(xx1, xx2, probs, [0.5], linewidths=2, colors='black');"
   ]
  }
 ],
 "metadata": {
  "kernelspec": {
   "display_name": "Python 3",
   "language": "python",
   "name": "python3"
  }
 },
 "nbformat": 4,
 "nbformat_minor": 2
}
